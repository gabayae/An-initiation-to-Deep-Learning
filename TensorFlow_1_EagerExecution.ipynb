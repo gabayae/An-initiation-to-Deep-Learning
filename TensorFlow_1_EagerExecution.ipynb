{
  "nbformat": 4,
  "nbformat_minor": 5,
  "metadata": {
    "kernelspec": {
      "display_name": "Python 3",
      "language": "python",
      "name": "python3"
    },
    "language_info": {
      "codemirror_mode": {
        "name": "ipython",
        "version": 3
      },
      "file_extension": ".py",
      "mimetype": "text/x-python",
      "name": "python",
      "nbconvert_exporter": "python",
      "pygments_lexer": "ipython3",
      "version": "3.8.10"
    },
    "colab": {
      "name": "TensorFlow-1-EagerExecution.ipynb",
      "provenance": [],
      "include_colab_link": true
    }
  },
  "cells": [
    {
      "cell_type": "markdown",
      "metadata": {
        "id": "view-in-github",
        "colab_type": "text"
      },
      "source": [
        "<a href=\"https://colab.research.google.com/github/gabayae/An-initiation-to-Deep-Learning/blob/main/TensorFlow_1_EagerExecution.ipynb\" target=\"_parent\"><img src=\"https://colab.research.google.com/assets/colab-badge.svg\" alt=\"Open In Colab\"/></a>"
      ]
    },
    {
      "cell_type": "markdown",
      "metadata": {
        "id": "bca6afc8"
      },
      "source": [
        "#  <center> <b> <span style=\"color:orange;\" >  `66 Days of Data` </span> </b></center>\n",
        "\n",
        "\n",
        "## <center> <b> <span style=\"color:orange;\"> An initiation to Deep Learning </span> </b></center>\n",
        "\n",
        "### <center> <b> <span style=\"color:blue;\"> TensorFlow: A comprehensive Guide </span> </b></center>\n",
        "\n",
        "\n",
        "\n",
        "\n",
        "#### Author: [Yaé Ulrich Gaba](https://github.com/gabayae)\n",
        "#### Link to the notebook on the repo: [TensorFlow and Keras: Quick Start Guide](https://github.com/gabayae/An-initiationto-Deep-Learning)\n",
        "\n",
        "#### [The official documentation page](https://www.tensorflow.org/guide)"
      ],
      "id": "bca6afc8"
    },
    {
      "cell_type": "markdown",
      "metadata": {
        "id": "d67d022a"
      },
      "source": [
        "# ToC\n",
        "\n",
        "- [Setup](#Setup)\n",
        "\n",
        "- [The tutorials](#The-tutorials)\n",
        " - [Eager execution](#Eager-execution)"
      ],
      "id": "d67d022a"
    },
    {
      "cell_type": "markdown",
      "metadata": {
        "id": "3b006a8b"
      },
      "source": [
        "## Setup\n",
        "\n",
        "For the intallation, read this [guide](https://www.tensorflow.org/install).\n",
        "\n",
        "\n",
        "I used \n",
        "\n",
        "                          !python3 -m pip install --upgrade tensorflow\n",
        "                          \n",
        "\n",
        "For `GPU support`, at the time of this writing you need to install `tensorflow-gpu` instead\n",
        "of `tensorflow` , but the TensorFlow team is working on having a single library that will\n",
        "support both CPU-only and GPU-equipped systems. You will still need to install extra\n",
        "libraries for GPU support (see https://tensorflow.org/install for more details). You can also consider installling the [`GPU-supported`](https://www.tensorflow.org/install/gpu) version via `!pip install tensorflow-gpu`. For `Ubuntu` users, [this page](https://gist.github.com/raulqf/2d5f2b33549e56a6bb7c9f52a7fd471c) provides you with the necessary information. In particular, for `Ubuntu 20.04` users, you can find [here](https://gist.github.com/raulqf/2d5f2b33549e56a6bb7c9f52a7fd471c) a step by step guide in the installation of **Tensorflow2 with GPU**.\n",
        "Also see [here](https://www.tensorflow.org/install/gpu)."
      ],
      "id": "3b006a8b"
    },
    {
      "cell_type": "code",
      "metadata": {
        "id": "2f2057b2",
        "outputId": "bad3b9c4-c8fb-4546-876e-10ff1f25a670"
      },
      "source": [
        "# Check the installed version:\n",
        "import tensorflow as tf \n",
        "tf.__version__"
      ],
      "id": "2f2057b2",
      "execution_count": null,
      "outputs": [
        {
          "data": {
            "text/plain": [
              "'2.6.0'"
            ]
          },
          "execution_count": 2,
          "metadata": {},
          "output_type": "execute_result"
        }
      ]
    },
    {
      "cell_type": "markdown",
      "metadata": {
        "id": "e53cc8ca"
      },
      "source": [
        "## The tutorials\n",
        "\n",
        "I could not find better introduction to the topic that the material available [here](https://www.tensorflow.org/guide). I called it `The TensorFlow Notebooks`. It assumes a familiarity with `Numpy` and really gives you the necessary to quick start with `TensorFlow` and `Keras`.\n",
        "I divided in a series of notebook I deemed wuitable for a learner/beginner. If you are more comfortable, feel free to move faster.\n",
        "\n",
        "\n",
        "\n",
        "### `Eager execution`\n",
        "\n",
        "\n",
        "Run the notebook locally by <a href=\"https://storage.googleapis.com/tensorflow_docs/docs/site/en/guide/eager.ipynb\"> Downloading it</a> or even better [`run it in Colab`](https://colab.research.google.com/github/tensorflow/docs/blob/master/site/en/guide/eager.ipynb)\n"
      ],
      "id": "e53cc8ca"
    }
  ]
}